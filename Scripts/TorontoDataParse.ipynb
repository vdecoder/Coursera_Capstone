{
  "nbformat": 4,
  "nbformat_minor": 0,
  "metadata": {
    "colab": {
      "name": "DataParse.ipynb",
      "provenance": [],
      "collapsed_sections": []
    },
    "kernelspec": {
      "name": "python3",
      "display_name": "Python 3"
    },
    "language_info": {
      "name": "python"
    }
  },
  "cells": [
    {
      "cell_type": "code",
      "metadata": {
        "id": "KXPy-UbwRNdm"
      },
      "source": [
        "import pandas as pd \n",
        "import requests \n",
        "from bs4 import BeautifulSoup "
      ],
      "execution_count": 1,
      "outputs": []
    },
    {
      "cell_type": "markdown",
      "metadata": {
        "id": "gLXuyX3_47AN"
      },
      "source": [
        "Scrap from the URL and pull the table"
      ]
    },
    {
      "cell_type": "code",
      "metadata": {
        "id": "s2GTjh-_Rbiw"
      },
      "source": [
        "req = requests.get(\"https://en.wikipedia.org/wiki/List_of_postal_codes_of_Canada:_M\") \n",
        "soup = BeautifulSoup(req.content,'lxml')\n",
        "table = soup.find_all('table')[0]  \n",
        "df_temp = pd.read_html(str(table)) \n",
        "neighborhood=pd.DataFrame(df_temp[0]) \n"
      ],
      "execution_count": 2,
      "outputs": []
    },
    {
      "cell_type": "code",
      "metadata": {
        "id": "T8eJvZHcRd79",
        "colab": {
          "base_uri": "https://localhost:8080/"
        },
        "outputId": "50c3e609-df0b-438d-90ef-48b143bfb1f4"
      },
      "source": [
        "neighborhood.shape"
      ],
      "execution_count": 79,
      "outputs": [
        {
          "output_type": "execute_result",
          "data": {
            "text/plain": [
              "(20, 9)"
            ]
          },
          "metadata": {
            "tags": []
          },
          "execution_count": 79
        }
      ]
    },
    {
      "cell_type": "markdown",
      "metadata": {
        "id": "krL5fBog5CQU"
      },
      "source": [
        "Converting data frame to list to parse each cell and create new data frame in the required format i.e. three columns postal code, borough and nieghbourhood."
      ]
    },
    {
      "cell_type": "code",
      "metadata": {
        "id": "YuK0RwVDjZ6h"
      },
      "source": [
        "neighbourhood_list = [neighborhood.columns.values.tolist()] + neighborhood.values.tolist()"
      ],
      "execution_count": 49,
      "outputs": []
    },
    {
      "cell_type": "markdown",
      "metadata": {
        "id": "eqgzvO9n6PPd"
      },
      "source": [
        "following steps are done in below code block:\n",
        "  a. Create an empty dataframe with required columns\n",
        "\n",
        "  b. Iterate though list\n",
        "\n",
        "  c. Ignore the list where \"Not assinged\" is found\n",
        "\n",
        "  d. Slice first 3 characters as Postal code\n",
        "\n",
        "  e. Find index position of '(' & ')'\n",
        "\n",
        "  f. We have assumed that only one open round and close bracket exists\n",
        "\n",
        "  g. Then used substring to pull string between brackerts and replaced '/' with comma and replaced additonal space as well\n",
        "\n",
        "  h. Appended each record to data frame\n",
        "\n",
        "  i. it is assume assumed that each cell with have neighbourhood and borough\n"
      ]
    },
    {
      "cell_type": "code",
      "metadata": {
        "colab": {
          "base_uri": "https://localhost:8080/"
        },
        "id": "bMkzgDA9j-yF",
        "outputId": "04e5681e-0490-43ec-936c-e6fb95710ab7"
      },
      "source": [
        "df = pd.DataFrame(columns = ['PostalCode', 'Borough', 'Neighborhood'])\n",
        "print(df)\n",
        "for n_list in neighbourhood_list:\n",
        "  for neighbour in n_list:\n",
        "    neighbour=str(neighbour)\n",
        "    if (neighbour.find('Not assigned') == -1):\n",
        "      if len(neighbour)>3:\n",
        "        postal_code=neighbour[:3]\n",
        "        start=neighbour.find('(', 1)\n",
        "        end=neighbour.find(')', 1)\n",
        "        neighd = neighbour[start+1:end].replace('/',',').replace(' ,',',')\n",
        "        borough=neighbour[3:start]\n",
        "        df = df.append({'PostalCode' : postal_code, 'Borough' : borough, 'Neighborhood' : neighd},ignore_index=True)\n",
        "\n",
        "        "
      ],
      "execution_count": 80,
      "outputs": [
        {
          "output_type": "stream",
          "text": [
            "Empty DataFrame\n",
            "Columns: [PostalCode, Borough, Neighborhood]\n",
            "Index: []\n"
          ],
          "name": "stdout"
        }
      ]
    },
    {
      "cell_type": "code",
      "metadata": {
        "colab": {
          "base_uri": "https://localhost:8080/",
          "height": 408
        },
        "id": "fqagQZoRw-XJ",
        "outputId": "8d1357f9-a67c-46c5-a59e-fb5883fc118c"
      },
      "source": [
        "df"
      ],
      "execution_count": 81,
      "outputs": [
        {
          "output_type": "execute_result",
          "data": {
            "text/html": [
              "<div>\n",
              "<style scoped>\n",
              "    .dataframe tbody tr th:only-of-type {\n",
              "        vertical-align: middle;\n",
              "    }\n",
              "\n",
              "    .dataframe tbody tr th {\n",
              "        vertical-align: top;\n",
              "    }\n",
              "\n",
              "    .dataframe thead th {\n",
              "        text-align: right;\n",
              "    }\n",
              "</style>\n",
              "<table border=\"1\" class=\"dataframe\">\n",
              "  <thead>\n",
              "    <tr style=\"text-align: right;\">\n",
              "      <th></th>\n",
              "      <th>PostalCode</th>\n",
              "      <th>Borough</th>\n",
              "      <th>Neighborhood</th>\n",
              "    </tr>\n",
              "  </thead>\n",
              "  <tbody>\n",
              "    <tr>\n",
              "      <th>0</th>\n",
              "      <td>M3A</td>\n",
              "      <td>North York</td>\n",
              "      <td>Parkwoods</td>\n",
              "    </tr>\n",
              "    <tr>\n",
              "      <th>1</th>\n",
              "      <td>M4A</td>\n",
              "      <td>North York</td>\n",
              "      <td>Victoria Village</td>\n",
              "    </tr>\n",
              "    <tr>\n",
              "      <th>2</th>\n",
              "      <td>M5A</td>\n",
              "      <td>Downtown Toronto</td>\n",
              "      <td>Regent Park, Harbourfront</td>\n",
              "    </tr>\n",
              "    <tr>\n",
              "      <th>3</th>\n",
              "      <td>M6A</td>\n",
              "      <td>North York</td>\n",
              "      <td>Lawrence Manor, Lawrence Heights</td>\n",
              "    </tr>\n",
              "    <tr>\n",
              "      <th>4</th>\n",
              "      <td>M7A</td>\n",
              "      <td>Queen's Park</td>\n",
              "      <td>Ontario Provincial Government</td>\n",
              "    </tr>\n",
              "    <tr>\n",
              "      <th>...</th>\n",
              "      <td>...</td>\n",
              "      <td>...</td>\n",
              "      <td>...</td>\n",
              "    </tr>\n",
              "    <tr>\n",
              "      <th>98</th>\n",
              "      <td>M8X</td>\n",
              "      <td>Etobicoke</td>\n",
              "      <td>The Kingsway, Montgomery Road, Old Mill North</td>\n",
              "    </tr>\n",
              "    <tr>\n",
              "      <th>99</th>\n",
              "      <td>M4Y</td>\n",
              "      <td>Downtown Toronto</td>\n",
              "      <td>Church and Wellesley</td>\n",
              "    </tr>\n",
              "    <tr>\n",
              "      <th>100</th>\n",
              "      <td>M7Y</td>\n",
              "      <td>East TorontoBusiness reply mail Processing Cen...</td>\n",
              "      <td>Enclave of M4L</td>\n",
              "    </tr>\n",
              "    <tr>\n",
              "      <th>101</th>\n",
              "      <td>M8Y</td>\n",
              "      <td>Etobicoke</td>\n",
              "      <td>Old Mill South, King's Mill Park, Sunnylea, Hu...</td>\n",
              "    </tr>\n",
              "    <tr>\n",
              "      <th>102</th>\n",
              "      <td>M8Z</td>\n",
              "      <td>Etobicoke</td>\n",
              "      <td>Mimico NW, The Queensway West, South of Bloor,...</td>\n",
              "    </tr>\n",
              "  </tbody>\n",
              "</table>\n",
              "<p>103 rows × 3 columns</p>\n",
              "</div>"
            ],
            "text/plain": [
              "    PostalCode  ...                                       Neighborhood\n",
              "0          M3A  ...                                          Parkwoods\n",
              "1          M4A  ...                                   Victoria Village\n",
              "2          M5A  ...                          Regent Park, Harbourfront\n",
              "3          M6A  ...                   Lawrence Manor, Lawrence Heights\n",
              "4          M7A  ...                      Ontario Provincial Government\n",
              "..         ...  ...                                                ...\n",
              "98         M8X  ...      The Kingsway, Montgomery Road, Old Mill North\n",
              "99         M4Y  ...                               Church and Wellesley\n",
              "100        M7Y  ...                                     Enclave of M4L\n",
              "101        M8Y  ...  Old Mill South, King's Mill Park, Sunnylea, Hu...\n",
              "102        M8Z  ...  Mimico NW, The Queensway West, South of Bloor,...\n",
              "\n",
              "[103 rows x 3 columns]"
            ]
          },
          "metadata": {
            "tags": []
          },
          "execution_count": 81
        }
      ]
    },
    {
      "cell_type": "code",
      "metadata": {
        "id": "IKA1bwYU2_-Y"
      },
      "source": [
        "df.to_csv('file1.csv')"
      ],
      "execution_count": 82,
      "outputs": []
    },
    {
      "cell_type": "code",
      "metadata": {
        "colab": {
          "base_uri": "https://localhost:8080/"
        },
        "id": "ZkAiEhDg5iSM",
        "outputId": "7aa2de9d-9de0-401a-a635-3f39b185916d"
      },
      "source": [
        "df.shape"
      ],
      "execution_count": 83,
      "outputs": [
        {
          "output_type": "execute_result",
          "data": {
            "text/plain": [
              "(103, 3)"
            ]
          },
          "metadata": {
            "tags": []
          },
          "execution_count": 83
        }
      ]
    },
    {
      "cell_type": "code",
      "metadata": {
        "colab": {
          "base_uri": "https://localhost:8080/"
        },
        "id": "HhC2KWZp5kyK",
        "outputId": "c01715c5-24a4-40ed-a634-63db74cba113"
      },
      "source": [
        "len(df['PostalCode'].unique())"
      ],
      "execution_count": 84,
      "outputs": [
        {
          "output_type": "execute_result",
          "data": {
            "text/plain": [
              "103"
            ]
          },
          "metadata": {
            "tags": []
          },
          "execution_count": 84
        }
      ]
    }
  ]
}